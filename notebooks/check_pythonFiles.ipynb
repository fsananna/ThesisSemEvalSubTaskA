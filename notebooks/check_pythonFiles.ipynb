{
 "cells": [
  {
   "cell_type": "markdown",
   "metadata": {},
   "source": [
    "### Check if the dataloader is working properly\n",
    "\n",
    "YET TO EDIT idiomDatasetLoader.py and this portion of the code"
   ]
  },
  {
   "cell_type": "code",
   "execution_count": null,
   "metadata": {},
   "outputs": [],
   "source": [
    "import sys\n",
    "import os\n",
    "sys.path.append(os.path.abspath(os.path.join('..', 'src')))"
   ]
  },
  {
   "cell_type": "code",
   "execution_count": null,
   "metadata": {},
   "outputs": [],
   "source": [
    "\n",
    "from idiomDatasetLoader import IdiomDataset\n",
    "from torch.utils.data import DataLoader\n",
    "\n",
    "\n",
    "dataset_path = \"dataset\"\n",
    "dataset = \"train\"\n",
    "\n",
    "dataset = IdiomDataset(dataset_path = dataset_path, dataset = dataset)\n",
    "dataloader = DataLoader(dataset, batch_size=2, shuffle=True)\n",
    "\n",
    "# Fetch a sample batch\n",
    "for batch in dataloader:\n",
    "    idiom = batch['idiom']\n",
    "    sentence = batch['sentence']\n",
    "    actual_order = batch['actual_order']\n",
    "    shuffled_order = batch['shuffled_order']\n",
    "    print(\"Idiom:\", idiom)\n",
    "    print(\"Sentence:\", sentence)\n",
    "    print(\"Actual Order:\", actual_order)\n",
    "    print(\"Shuffled Order:\", shuffled_order)\n",
    "    break  # Only show first batch"
   ]
  },
  {
   "cell_type": "code",
   "execution_count": null,
   "metadata": {},
   "outputs": [],
   "source": [
    "import sys\n",
    "print(sys.path)"
   ]
  },
  {
   "cell_type": "code",
   "execution_count": null,
   "metadata": {},
   "outputs": [],
   "source": [
    "import os\n",
    "print(os.getcwd())"
   ]
  }
 ],
 "metadata": {
  "kernelspec": {
   "display_name": "base",
   "language": "python",
   "name": "python3"
  },
  "language_info": {
   "codemirror_mode": {
    "name": "ipython",
    "version": 3
   },
   "file_extension": ".py",
   "mimetype": "text/x-python",
   "name": "python",
   "nbconvert_exporter": "python",
   "pygments_lexer": "ipython3",
   "version": "3.9.16"
  }
 },
 "nbformat": 4,
 "nbformat_minor": 2
}
