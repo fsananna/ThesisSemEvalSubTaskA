{
 "cells": [
  {
   "cell_type": "markdown",
   "metadata": {},
   "source": [
    "### Check if the dataloader is working properly\n",
    "\n",
    "YET TO EDIT idiomDatasetLoader.py and this portion of the code"
   ]
  },
  {
   "cell_type": "code",
   "execution_count": null,
   "metadata": {},
   "outputs": [],
   "source": [
    "import sys\n",
    "import os\n",
    "sys.path.append(os.path.abspath(os.path.join('..', 'src')))"
   ]
  },
  {
   "cell_type": "code",
   "execution_count": null,
   "metadata": {},
   "outputs": [
    {
     "ename": "",
     "evalue": "",
     "output_type": "error",
     "traceback": [
      "\u001b[1;31mRunning cells with 'Python 3.12.9' requires the ipykernel package.\n",
      "\u001b[1;31mRun the following command to install 'ipykernel' into the Python environment. \n",
      "\u001b[1;31mCommand: 'c:/Users/l/AppData/Local/Microsoft/WindowsApps/python3.12.exe -m pip install ipykernel -U --user --force-reinstall'"
     ]
    }
   ],
   "source": [
    "from idiomDatasetLoader import IdiomDataset\n",
    "from torch.utils.data import DataLoader\n",
    "\n",
    "dataset_path = \"dataset\"\n",
    "dataset = \"train\"\n",
    "\n",
    "dataset = IdiomDataset(dataset_path=dataset_path, dataset=dataset)\n",
    "dataloader = DataLoader(dataset, batch_size=1, shuffle=True)  # Use batch_size=1 for simplicity\n",
    "\n",
    "for batch in dataloader:\n",
    "    if batch is None:\n",
    "        continue  # Skip samples where image loading failed\n",
    "\n",
    "    idiom = batch['idiom'][0]\n",
    "    sentence = batch['sentence'][0]\n",
    "    actual_order = batch['actual_order'][0]\n",
    "    shuffled_order = batch['shuffled_order'][0]\n",
    "\n",
    "    print(\"Idiom:\", idiom)\n",
    "    print(\"Sentence:\", sentence)\n",
    "    print(\"Actual Order:\", actual_order)\n",
    "    print(\"Shuffled Order:\", shuffled_order)\n",
    "    break  # Just one batch for test\n"
   ]
  },
  {
   "cell_type": "code",
   "execution_count": null,
   "metadata": {},
   "outputs": [],
   "source": [
    "import sys\n",
    "print(sys.path)"
   ]
  },
  {
   "cell_type": "code",
   "execution_count": null,
   "metadata": {},
   "outputs": [],
   "source": [
    "import os\n",
    "print(os.getcwd())"
   ]
  }
 ],
 "metadata": {
  "kernelspec": {
   "display_name": "base",
   "language": "python",
   "name": "python3"
  },
  "language_info": {
   "codemirror_mode": {
    "name": "ipython",
    "version": 3
   },
   "file_extension": ".py",
   "mimetype": "text/x-python",
   "name": "python",
   "nbconvert_exporter": "python",
   "pygments_lexer": "ipython3",
   "version": "3.12.7"
  }
 },
 "nbformat": 4,
 "nbformat_minor": 2
}
