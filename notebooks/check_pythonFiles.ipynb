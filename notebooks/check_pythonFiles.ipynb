{
 "cells": [
  {
   "cell_type": "markdown",
   "metadata": {},
   "source": [
    "### Check if the dataloader is working properly\n",
    "\n",
    "YET TO EDIT idiomDatasetLoader.py and this portion of the code"
   ]
  },
  {
   "cell_type": "code",
   "execution_count": 2,
   "metadata": {},
   "outputs": [],
   "source": [
    "import sys\n",
    "import os\n",
    "sys.path.append(os.path.abspath(os.path.join('..', 'src')))"
   ]
  },
  {
   "cell_type": "code",
   "execution_count": 3,
   "metadata": {},
   "outputs": [
    {
     "name": "stdout",
     "output_type": "stream",
     "text": [
      "Script started\n",
      "Dataset loaded successfully.\n",
      "           compound  subset sentence_type  \\\n",
      "0      elbow grease   Train     idiomatic   \n",
      "1         night owl   Train     idiomatic   \n",
      "2     heart of gold   Train     idiomatic   \n",
      "3        agony aunt  Sample     idiomatic   \n",
      "4  shrinking violet   Train     idiomatic   \n",
      "\n",
      "                                            sentence  \\\n",
      "0  It took a lot of elbow grease to get the old e...   \n",
      "1  It's a constant battle for us, as he is a morn...   \n",
      "2  Even the somewhat seedy failed private eye has...   \n",
      "3  ESA's Space Weather Office is like Europe's st...   \n",
      "4  This aged, rich wine is no shrinking violet wi...   \n",
      "\n",
      "                                      expected_order      image1_name  \\\n",
      "0  ['35234427395.png', '53378381715.png', '399382...  35234427395.png   \n",
      "1  ['61697797701.png', '93189810779.png', '893752...  00982495584.png   \n",
      "2  ['86137977215.png', '78062290185.png', '542405...  54240592941.png   \n",
      "3  ['83600499282.png', '57658144685.png', '025128...  02512838127.png   \n",
      "4  ['77861539717.png', '68016869942.png', '118443...  11844321898.png   \n",
      "\n",
      "                                      image1_caption      image2_name  \\\n",
      "0  The image depicts a hand holding a sponge and ...  39938261459.png   \n",
      "1  The image depicts a nighttime scene with a lar...  61697797701.png   \n",
      "2  The image depicts a large, metallic safe with ...  78062290185.png   \n",
      "3  The image depicts a serene outdoor scene featu...  32964421720.png   \n",
      "4  The image depicts a bouquet of purple tulips a...  45394842176.png   \n",
      "\n",
      "                                      image2_caption      image3_name  \\\n",
      "0  The image depicts a hand wearing a yellow work...  53378381715.png   \n",
      "1  The image depicts a cartoon-style illustration...  89375227504.png   \n",
      "2  The image depicts a joyful scene featuring a y...  86137977215.png   \n",
      "3  The image depicts a cartoon-style illustration...  57658144685.png   \n",
      "4  The image depicts a magnifying glass, commonly...  68016869942.png   \n",
      "\n",
      "                                      image3_caption      image4_name  \\\n",
      "0  The image depicts a hand holding a duster with...  54879908369.png   \n",
      "1  The image depicts a cartoon-style owl perched ...  93189810779.png   \n",
      "2  The image depicts a cartoon scene where a youn...  90660547751.png   \n",
      "3  The image depicts a scene of a person sitting ...  83600499282.png   \n",
      "4  The image depicts a small, cute puppy standing...  77861539717.png   \n",
      "\n",
      "                                      image4_caption      image5_name  \\\n",
      "0  The image depicts a person wearing knee pads a...  74852536462.png   \n",
      "1  The image depicts a cartoon-style illustration...  93541983868.png   \n",
      "2  The image depicts a futuristic, stylized space...  92088849364.png   \n",
      "3  The image depicts a person sitting at a desk, ...  92533456778.png   \n",
      "4  The image depicts an animated character with c...  97482048489.png   \n",
      "\n",
      "                                      image5_caption  \n",
      "0  The image depicts a person wearing a black out...  \n",
      "1  The image depicts a dumbbell, which is a commo...  \n",
      "2  The image depicts a stylized, artistic represe...  \n",
      "3  The image depicts a cartoon character of a wom...  \n",
      "4  The image is a colorful and vibrant illustrati...  \n",
      "Idiom: beached whale\n",
      "Sentence: One scene is the Strip, which he described as a beached whale, and the neighborhood dining scene, which is making successful efforts to adapt.\n",
      "Actual Order: ('29988565894.png',)\n",
      "Shuffled Order: ('37685710911.png',)\n"
     ]
    }
   ],
   "source": [
    "from idiomDatasetLoader import IdiomDataset\n",
    "from torch.utils.data import DataLoader\n",
    "\n",
    "dataset_path = \"dataset\"\n",
    "dataset = \"train\"\n",
    "\n",
    "dataset = IdiomDataset(dataset_path=dataset_path, dataset=dataset)\n",
    "dataloader = DataLoader(dataset, batch_size=1, shuffle=True)  # Use batch_size=1 for simplicity\n",
    "\n",
    "for batch in dataloader:\n",
    "    if batch is None:\n",
    "        continue  # Skip samples where image loading failed\n",
    "\n",
    "    idiom = batch['idiom'][0]\n",
    "    sentence = batch['sentence'][0]\n",
    "    actual_order = batch['actual_order'][0]\n",
    "    shuffled_order = batch['shuffled_order'][0]\n",
    "\n",
    "    print(\"Idiom:\", idiom)\n",
    "    print(\"Sentence:\", sentence)\n",
    "    print(\"Actual Order:\", actual_order)\n",
    "    print(\"Shuffled Order:\", shuffled_order)\n",
    "    break  # Just one batch for test\n"
   ]
  },
  {
   "cell_type": "code",
   "execution_count": 4,
   "metadata": {},
   "outputs": [
    {
     "name": "stdout",
     "output_type": "stream",
     "text": [
      "['c:\\\\Python312\\\\python312.zip', 'c:\\\\Python312\\\\DLLs', 'c:\\\\Python312\\\\Lib', 'c:\\\\Python312', '', 'C:\\\\Users\\\\l\\\\AppData\\\\Roaming\\\\Python\\\\Python312\\\\site-packages', 'C:\\\\Users\\\\l\\\\AppData\\\\Roaming\\\\Python\\\\Python312\\\\site-packages\\\\win32', 'C:\\\\Users\\\\l\\\\AppData\\\\Roaming\\\\Python\\\\Python312\\\\site-packages\\\\win32\\\\lib', 'C:\\\\Users\\\\l\\\\AppData\\\\Roaming\\\\Python\\\\Python312\\\\site-packages\\\\Pythonwin', 'c:\\\\Python312\\\\Lib\\\\site-packages', 'f:\\\\Sem7\\\\Thesis\\\\CODE\\\\src']\n"
     ]
    }
   ],
   "source": [
    "import sys\n",
    "print(sys.path)"
   ]
  },
  {
   "cell_type": "code",
   "execution_count": 5,
   "metadata": {},
   "outputs": [
    {
     "name": "stdout",
     "output_type": "stream",
     "text": [
      "f:\\Sem7\\Thesis\\CODE\\notebooks\n"
     ]
    }
   ],
   "source": [
    "import os\n",
    "print(os.getcwd())"
   ]
  }
 ],
 "metadata": {
  "kernelspec": {
   "display_name": "Python 3",
   "language": "python",
   "name": "python3"
  },
  "language_info": {
   "codemirror_mode": {
    "name": "ipython",
    "version": 3
   },
   "file_extension": ".py",
   "mimetype": "text/x-python",
   "name": "python",
   "nbconvert_exporter": "python",
   "pygments_lexer": "ipython3",
   "version": "3.12.1"
  }
 },
 "nbformat": 4,
 "nbformat_minor": 2
}
