{
 "cells": [
  {
   "cell_type": "markdown",
   "metadata": {},
   "source": [
    "# Summary of the Dataset #"
   ]
  },
  {
   "cell_type": "code",
   "execution_count": 1,
   "metadata": {},
   "outputs": [
    {
     "name": "stdout",
     "output_type": "stream",
     "text": [
      "Dataset: train\n",
      "  Total samples: 70\n",
      "  Sentence type distribution: {'idiomatic': 39, 'literal': 31}\n",
      "------------------------------------------------------------\n",
      "Dataset: test\n",
      "  Total samples: 15\n",
      "  Sentence type distribution: {'idiomatic': 8, 'literal': 7}\n",
      "------------------------------------------------------------\n",
      "Dataset: dev\n",
      "  Total samples: 15\n",
      "  Sentence type distribution: {'literal': 8, 'idiomatic': 7}\n",
      "------------------------------------------------------------\n"
     ]
    }
   ],
   "source": [
    "import pandas as pd\n",
    "import os\n",
    "\n",
    "# Define dataset paths\n",
    "dataset_dir = \"../dataset/\"  # Replace with the actual dataset directory\n",
    "datasets = [\"train\", \"test\", \"dev\"]\n",
    "\n",
    "# Dictionary to store dataset summaries\n",
    "summary = {}\n",
    "\n",
    "# Process each dataset\n",
    "for dataset in datasets:\n",
    "    file_path = dataset_dir + dataset + f\"/subtask_a_{dataset}.tsv\"  # Adjust filename if needed\n",
    "    \n",
    "    # Read the TSV file\n",
    "    df = pd.read_csv(file_path, sep='\\t')\n",
    "    \n",
    "    # Compute required information\n",
    "    dataset_length = len(df)\n",
    "    sentence_type_distribution = df['sentence_type'].value_counts().to_dict()\n",
    "    \n",
    "    # Store results\n",
    "    summary[dataset] = {\n",
    "        \"dataset_length\": dataset_length,\n",
    "        \"sentence_type_distribution\": sentence_type_distribution\n",
    "    }\n",
    "\n",
    "# Print summary\n",
    "for dataset, stats in summary.items():\n",
    "    print(f\"Dataset: {dataset}\")\n",
    "    print(f\"  Total samples: {stats['dataset_length']}\")\n",
    "    print(f\"  Sentence type distribution: {stats['sentence_type_distribution']}\")\n",
    "    print(\"-\" * 60)\n"
   ]
  }
 ],
 "metadata": {
  "kernelspec": {
   "display_name": "Python 3",
   "language": "python",
   "name": "python3"
  },
  "language_info": {
   "codemirror_mode": {
    "name": "ipython",
    "version": 3
   },
   "file_extension": ".py",
   "mimetype": "text/x-python",
   "name": "python",
   "nbconvert_exporter": "python",
   "pygments_lexer": "ipython3",
   "version": "3.12.1"
  }
 },
 "nbformat": 4,
 "nbformat_minor": 2
}
