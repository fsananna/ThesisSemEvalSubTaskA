{
 "cells": [
  {
   "cell_type": "code",
   "execution_count": null,
   "metadata": {},
   "outputs": [],
   "source": [
    "import sys\n",
    "import os\n",
    "sys.path.append(os.path.abspath(os.path.join('..', 'src')))\n",
    "from CosineSimilarity import ImageTextSimilarity\n",
    "\n",
    "\n",
    "dataset_path = \"../dataset/test/task_a_test.tsv\"\n",
    "similarity_model = ImageTextSimilarity(dataset_path)\n",
    "ranked_results = similarity_model.process_test_data()\n",
    "\n",
    "for result in ranked_results[:5]:  # Display first 5 results\n",
    "    print(f\"Sentence: {result['sentence']}\")\n",
    "    print(f\"Compound: {result['compound']}\")\n",
    "    print(f\"Ranked Images: {result['ranked_images']}\\n\")"
   ]
  }
 ],
 "metadata": {
  "kernelspec": {
   "display_name": "base",
   "language": "python",
   "name": "python3"
  },
  "language_info": {
   "codemirror_mode": {
    "name": "ipython",
    "version": 3
   },
   "file_extension": ".py",
   "mimetype": "text/x-python",
   "name": "python",
   "nbconvert_exporter": "python",
   "pygments_lexer": "ipython3",
   "version": "3.9.16"
  }
 },
 "nbformat": 4,
 "nbformat_minor": 2
}
